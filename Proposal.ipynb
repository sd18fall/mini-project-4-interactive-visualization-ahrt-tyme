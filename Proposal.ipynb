{
 "cells": [
  {
   "cell_type": "markdown",
   "metadata": {},
   "source": [
    "AHRT Tyme\n",
    "Sophie and Liz\n",
    "\n",
    "What is the main idea of your project? What topics will you explore and what will you generate? What is your minimum viable product? What is a stretch goal?\n",
    "We want to create a program that uses the webcam in a laptop to create a visual in reaction to what is moving.\n",
    "\n",
    "What are your learning goals for this project (for each member)?\n",
    "Sophie:\n",
    "My main goal is to get better at the skills we used in the computational art mini project such as creating pictures and generating functions. I also want to push these skills further to make videos and include fractals. \n",
    "Liz:\n",
    "My main goal is to not die due to over-scoping, working on project planning and achievable MVPs. In the programming space, I’d like to work on finding and using existing libraries, especially those for interfacing with more than just standard python.\n",
    "\n",
    "What libraries are you planning to use? (if you don’t know enough yet, please outline how you will decide this question during the beginning phase of the project).\n",
    "We’ll need something that talks to the computer’s webcam, possibly OpenCV or whatever else Google pops up with. We’ll consider pygame. I just found something called pyImageSearch, which looks like it will help us track movement.\n",
    "As a stretch goal, we’d like to be able to connect to a projector, which may require more libraries or math.\n",
    "\n",
    "What do you plan to accomplish by the mid-project check-in? (See below for some generic goals; edit to suit your particular project)\n",
    "This will depend a bit on what else we have to do in between. For starters, we’d like to be able to talk to a webcam. From there, we’d like to be able to detect what is moving within the webcam’s view, such that after the mid-point check-in we can work on the visuals we’d like to create (which, creating more and more visuals can stretch to fill any time we have)\n",
    "\n",
    "What do you view as the biggest risks to you being successful on this project?\n",
    "We think our greatest risk might be over scoping our project and spending too much time on it, but we are trying to conscience of how long we think our ideas are going to take to implement.\n"
   ]
  }
 ],
 "metadata": {
  "kernelspec": {
   "display_name": "Python 3",
   "language": "python",
   "name": "python3"
  },
  "language_info": {
   "codemirror_mode": {
    "name": "ipython",
    "version": 3
   },
   "file_extension": ".py",
   "mimetype": "text/x-python",
   "name": "python",
   "nbconvert_exporter": "python",
   "pygments_lexer": "ipython3",
   "version": "3.6.5"
  }
 },
 "nbformat": 4,
 "nbformat_minor": 2
}
